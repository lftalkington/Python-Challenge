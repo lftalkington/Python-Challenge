{
 "cells": [
  {
   "cell_type": "code",
   "execution_count": 9,
   "metadata": {},
   "outputs": [],
   "source": [
    "import os\n",
    "import csv\n",
    "from collections import Counter"
   ]
  },
  {
   "cell_type": "code",
   "execution_count": 10,
   "metadata": {},
   "outputs": [],
   "source": [
    "#this will run how many total votes occurred\n",
    "\n",
    "csvpath = os.path.join('..', 'PyPoll/election_data.csv')\n",
    "output_path = os.path.join('')\n",
    "with open (csvpath, 'r') as f:\n",
    "    voter_count = []\n",
    "    reader = csv.reader(f)\n",
    "    next(reader, None)\n",
    "    for row in reader:\n",
    "        voter_count.append(row[2])\n",
    "        "
   ]
  },
  {
   "cell_type": "code",
   "execution_count": 11,
   "metadata": {},
   "outputs": [],
   "source": [
    "c = Counter(voter_count)\n",
    "#arbitrary assignment; can use output of counter without recreating counter constantly"
   ]
  },
  {
   "cell_type": "code",
   "execution_count": 12,
   "metadata": {},
   "outputs": [
    {
     "data": {
      "text/plain": [
       "Counter({'Khan': 2218231, 'Correy': 704200, 'Li': 492940, \"O'Tooley\": 105630})"
      ]
     },
     "execution_count": 12,
     "metadata": {},
     "output_type": "execute_result"
    }
   ],
   "source": [
    "c\n",
    "#this is votes cast per candidate"
   ]
  },
  {
   "cell_type": "code",
   "execution_count": 13,
   "metadata": {},
   "outputs": [
    {
     "name": "stdout",
     "output_type": "stream",
     "text": [
      "Khan 2218231\n",
      "Correy 704200\n",
      "Li 492940\n",
      "O'Tooley 105630\n"
     ]
    }
   ],
   "source": [
    "# The total number of votes each candidate won\n",
    "for k, v in c.items():\n",
    "    print (k, v)\n",
    "    #use f string or string formatting to * v/vote_count*100 --> figure out percentage"
   ]
  },
  {
   "cell_type": "code",
   "execution_count": 14,
   "metadata": {},
   "outputs": [],
   "source": [
    "summary = {k: (v / len(voter_count)) for k, v in c.items()}"
   ]
  },
  {
   "cell_type": "code",
   "execution_count": 15,
   "metadata": {},
   "outputs": [
    {
     "name": "stdout",
     "output_type": "stream",
     "text": [
      "3521001\n"
     ]
    }
   ],
   "source": [
    "count = 0\n",
    "for k, v in c.items():\n",
    "    count += v\n",
    "print (count)"
   ]
  },
  {
   "cell_type": "code",
   "execution_count": 17,
   "metadata": {},
   "outputs": [
    {
     "data": {
      "text/plain": [
       "3521001"
      ]
     },
     "execution_count": 17,
     "metadata": {},
     "output_type": "execute_result"
    }
   ],
   "source": [
    "sum(c.values())"
   ]
  },
  {
   "cell_type": "code",
   "execution_count": 18,
   "metadata": {},
   "outputs": [
    {
     "name": "stdout",
     "output_type": "stream",
     "text": [
      "Khan and 63.0%\n",
      "Correy and 20.0%\n",
      "Li and 14.0%\n",
      "O'Tooley and 3.0%\n"
     ]
    }
   ],
   "source": [
    "# percentage of votes per candidate\n",
    "for voter_count, freq_pct in summary.items():\n",
    "     print(f\"{voter_count} and {round(freq_pct * 100, 2)}%\")"
   ]
  },
  {
   "cell_type": "code",
   "execution_count": 19,
   "metadata": {},
   "outputs": [
    {
     "data": {
      "text/plain": [
       "'Khan'"
      ]
     },
     "execution_count": 19,
     "metadata": {},
     "output_type": "execute_result"
    }
   ],
   "source": [
    "winner = c.most_common()[0][0]\n",
    "winner"
   ]
  },
  {
   "cell_type": "code",
   "execution_count": 23,
   "metadata": {},
   "outputs": [],
   "source": [
    "#export data\n",
    "# The total number of votes cast\n",
    "# A complete list of candidates who received votes\n",
    "# The percentage of votes each candidate won\n",
    "# The total number of votes each candidate won\n",
    "# The winner of the election based on popular vote.\n",
    "\n",
    "with open('output.txt', 'w') as f:\n",
    "    f.write(\"Voter Summary \\n\")\n",
    "    f.write(\"----------------------------- \\n\")\n",
    "    \n",
    "    for voter_count, freq_pct in summary.items():\n",
    "        f.write(f\"{voter_count} and {round(freq_pct * 100, 2)}% \\n\")\n",
    "    f.write(f'{v} \\n')\n",
    "    f.write(f'Winner is {winner} \\n')\n",
    "    f.write(f'{winner} won by {round(freq_pct * 100, 2)}% \\n')\n",
    "    "
   ]
  },
  {
   "cell_type": "code",
   "execution_count": 24,
   "metadata": {},
   "outputs": [
    {
     "name": "stdout",
     "output_type": "stream",
     "text": [
      "Voter Summary \r\n",
      "----------------------------- \r\n",
      "Khan and 63.0% \r\n",
      "Correy and 20.0% \r\n",
      "Li and 14.0% \r\n",
      "O'Tooley and 3.0% \r\n",
      "105630 \r\n",
      "Winner is Khan \r\n",
      "Khan won by 3.0% \r\n"
     ]
    }
   ],
   "source": [
    "cat output.txt"
   ]
  },
  {
   "cell_type": "code",
   "execution_count": null,
   "metadata": {},
   "outputs": [],
   "source": []
  }
 ],
 "metadata": {
  "kernelspec": {
   "display_name": "Python 3",
   "language": "python",
   "name": "python3"
  },
  "language_info": {
   "codemirror_mode": {
    "name": "ipython",
    "version": 3
   },
   "file_extension": ".py",
   "mimetype": "text/x-python",
   "name": "python",
   "nbconvert_exporter": "python",
   "pygments_lexer": "ipython3",
   "version": "3.7.0"
  }
 },
 "nbformat": 4,
 "nbformat_minor": 2
}
