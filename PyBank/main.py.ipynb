{
 "cells": [
  {
   "cell_type": "code",
   "execution_count": 1,
   "metadata": {},
   "outputs": [],
   "source": [
    "import os\n",
    "import csv"
   ]
  },
  {
   "cell_type": "code",
   "execution_count": 5,
   "metadata": {},
   "outputs": [],
   "source": [
    "months = 0\n",
    "profit_gain = []\n",
    "total_loss = float()\n",
    "change_in_rev = []\n",
    "rev_list = []\n",
    "prev_rev = float(0)\n",
    "date = []\n",
    "greatest_inc = []\n",
    "#include date\n",
    "greatest_dec = [0]\n",
    "#include date\n",
    "month_of_change = []\n",
    "\n",
    "# define the path to the file that contains the results of the election\n",
    "csvpath = os.path.join('..', 'PyBank/budget_data.csv')\n",
    "# open the file as a csv file\n",
    "\n",
    "with open(csvpath, 'r', newline='') as csvfile:\n",
    "\n",
    "csv_reader = csv.reader(csvfile, delimiter=',')\n",
    "\n",
    "\n",
    "# find total months\n",
    "\n",
    "with open (csvpath, 'r') as f:\n",
    "    reader = csv.reader(f)\n",
    "    next(reader, None)\n",
    "    for row in reader:\n",
    "        months += 1\n",
    "        date_list.append(str(value[0]))\n",
    "        profit_gain.append(float(value[1]))\n",
    "\n",
    "    # profit changes\n",
    "\n",
    "        current_value = value[1]\n",
    "        change_value = float(current_value) - float(prev_rev)\n",
    "        change_value_list.append(change_in_rev)\n",
    "        prev_rev = current_value"
   ]
  },
  {
   "cell_type": "code",
   "execution_count": 17,
   "metadata": {},
   "outputs": [],
   "source": [
    "with open('output.txt', 'w') as f:\n",
    "    f.write(\"Voter Summary \\n\")\n",
    "    f.write(\"----------------------------- \\n\")\n",
    "    f.write(f'Total months of data {months} \\n')\n",
    "    f.write(f'Profit changes are {current_value} \\n')"
   ]
  },
  {
   "cell_type": "code",
   "execution_count": 18,
   "metadata": {},
   "outputs": [
    {
     "name": "stdout",
     "output_type": "stream",
     "text": [
      "Voter Summary \r\n",
      "----------------------------- \r\n",
      "Total months of data 86 \r\n",
      "Profit changes are 671099 \r\n"
     ]
    }
   ],
   "source": [
    "cat output.txt"
   ]
  },
  {
   "cell_type": "code",
   "execution_count": null,
   "metadata": {},
   "outputs": [],
   "source": []
  }
 ],
 "metadata": {
  "kernelspec": {
   "display_name": "Python 3",
   "language": "python",
   "name": "python3"
  },
  "language_info": {
   "codemirror_mode": {
    "name": "ipython",
    "version": 3
   },
   "file_extension": ".py",
   "mimetype": "text/x-python",
   "name": "python",
   "nbconvert_exporter": "python",
   "pygments_lexer": "ipython3",
   "version": "3.7.0"
  }
 },
 "nbformat": 4,
 "nbformat_minor": 2
}
